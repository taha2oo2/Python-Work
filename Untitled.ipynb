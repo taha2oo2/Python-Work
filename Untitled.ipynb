{
 "cells": [
  {
   "cell_type": "code",
   "execution_count": null,
   "id": "0d395284",
   "metadata": {},
   "outputs": [],
   "source": [
    "print(\"computer\")"
   ]
  },
  {
   "cell_type": "code",
   "execution_count": null,
   "id": "431bb3e4",
   "metadata": {},
   "outputs": [],
   "source": [
    "print(\"hey,my name is taha\")"
   ]
  },
  {
   "cell_type": "markdown",
   "id": "8d5039c6",
   "metadata": {},
   "source": [
    "# VARIABLES"
   ]
  },
  {
   "cell_type": "code",
   "execution_count": null,
   "id": "7e954a32",
   "metadata": {},
   "outputs": [],
   "source": [
    "name='shehzad'\n",
    "print(name)"
   ]
  },
  {
   "cell_type": "code",
   "execution_count": null,
   "id": "fbe6ed9d",
   "metadata": {},
   "outputs": [],
   "source": [
    "pname='iqbal'\n",
    "print(pname)"
   ]
  },
  {
   "cell_type": "code",
   "execution_count": null,
   "id": "d478c4b3",
   "metadata": {
    "scrolled": true
   },
   "outputs": [],
   "source": [
    "num1=22.02\n",
    "print(type(num1))\n",
    "num1='pakistan'\n",
    "print(type(num1))\n"
   ]
  },
  {
   "cell_type": "code",
   "execution_count": null,
   "id": "ab3b93ba",
   "metadata": {},
   "outputs": [],
   "source": [
    "num1=22.02\n",
    "print(num1+56)\n",
    "print(num1+56)\n",
    "print(num1+56)\n"
   ]
  },
  {
   "cell_type": "code",
   "execution_count": null,
   "id": "195f0adc",
   "metadata": {},
   "outputs": [],
   "source": [
    "num=input('Your name')\n",
    "print(num)\n",
    "print(type(num))"
   ]
  },
  {
   "cell_type": "code",
   "execution_count": null,
   "id": "a5dc5bad",
   "metadata": {},
   "outputs": [],
   "source": [
    "print(string(num2))"
   ]
  },
  {
   "cell_type": "code",
   "execution_count": null,
   "id": "c8a104f5",
   "metadata": {},
   "outputs": [],
   "source": [
    "num4=int(input(\"your num:    \"))\n",
    "print(type(num4))\n",
    "num0=int (input(\"your num:   \"))\n",
    "print(type(num0))"
   ]
  },
  {
   "cell_type": "markdown",
   "id": "93b9d1fa",
   "metadata": {},
   "source": [
    "# Concatination"
   ]
  },
  {
   "cell_type": "code",
   "execution_count": null,
   "id": "3078b450",
   "metadata": {},
   "outputs": [],
   "source": [
    "age=10\n",
    "print(age)\n",
    "age += 10 #age=age+10 use *,/,-\n",
    "print(age)\n"
   ]
  },
  {
   "cell_type": "code",
   "execution_count": null,
   "id": "45f4f806",
   "metadata": {},
   "outputs": [],
   "source": [
    "greeting=\"hello\"\n",
    "adress=\"world\"\n",
    "print( greeting + \" \"+ adress)"
   ]
  },
  {
   "cell_type": "code",
   "execution_count": null,
   "id": "bcd0b36a",
   "metadata": {},
   "outputs": [],
   "source": [
    "num0=input('Your name')\n",
    "num1=input('Your F_name')\n",
    "num2=int (input('Your maths marks'))\n",
    "num3=int (input('Your chemistry marks'))\n",
    "num4=int (input('Your urdu marks'))\n",
    "num5=int (input('Your coding marks'))\n",
    "print(\"****************************************************************************************\")\n",
    "print('* Mr: ' + num0 +\" \"+ 'Son of ' +num1)\n",
    "print('* Marks in Maths ' + str(num2) + \"   \"+'Marks in chemistry'  + \"   \" + str(num3) )\n",
    "print('* Marks in urdu ' + str(num4) +\"   \"+ 'Marks in coding'  + \"   \" +str(num5))\n",
    "\n",
    "total=num2+num3+num4+num5\n",
    "print('* Total marks:' +str(total))\n",
    "per=(total/400) *100\n",
    "print('* Your Percentage:'+str(per))\n",
    "print(\"****************************************************************************************\")"
   ]
  },
  {
   "cell_type": "markdown",
   "id": "28f443d8",
   "metadata": {},
   "source": [
    "##### "
   ]
  },
  {
   "cell_type": "markdown",
   "id": "9a6e9926",
   "metadata": {},
   "source": [
    "# If/if_elif/If_elif_else"
   ]
  },
  {
   "cell_type": "code",
   "execution_count": null,
   "id": "496a7b2a",
   "metadata": {},
   "outputs": [],
   "source": [
    "human = 'taha'\n",
    "name = input('name')\n",
    "if (human== name):\n",
    "    print(\"Its a Human\")"
   ]
  },
  {
   "cell_type": "code",
   "execution_count": null,
   "id": "64c281b2",
   "metadata": {},
   "outputs": [],
   "source": [
    "I"
   ]
  },
  {
   "cell_type": "code",
   "execution_count": null,
   "id": "2d782ce7",
   "metadata": {},
   "outputs": [],
   "source": [
    "human=input('If human write y: ')\n",
    "if human=='y':\n",
    "    gender=input(\"Write gender: \")\n",
    "    if gender== 'male':\n",
    "        print('its a male:   ')\n",
    "    elif gender== 'female':\n",
    "        print('Its a female: ')\n",
    "    else:\n",
    "        print('Un-specified')\n",
    "else:\n",
    "    print('not a human')\n",
    "age=int(input('Enter your age: '))\n",
    "if age>= 18:\n",
    "    print(\"You are an Adult according to Islamic Republic of Pakistan\")\n",
    "else:\n",
    "    print(\"You are not an Adult according to Islamic Republic of Pakistan\")"
   ]
  },
  {
   "cell_type": "code",
   "execution_count": null,
   "id": "10723ad0",
   "metadata": {},
   "outputs": [],
   "source": [
    "age =int(input ('What is your age'))\n",
    "gender= input('Specify Your gender M/F')\n",
    "salary_per_month=float(input('Enter your salary($):'))\n",
    "if age<18:\n",
    "    print(\"You Are Under age! \")\n",
    "elif age>=60 and gender=='M' and salary_per_month <=100000:\n",
    "    print('Issue life time Man card with tax')\n",
    "\n",
    "elif age>=60 and gender=='F'and salary_per_month <=80000:\n",
    "    print('Issue life time Female card')\n",
    "\n",
    "elif age>=18 and salary_per_month <=100000 and (gender=='M' or gender=='F'):\n",
    "    print('Issue short expiry card and apply tax')\n",
    "\n",
    "else:\n",
    "    print('Re-enter the information correctly')\n",
    "    "
   ]
  },
  {
   "cell_type": "code",
   "execution_count": null,
   "id": "3e077e8a",
   "metadata": {},
   "outputs": [],
   "source": [
    "age =int(input ('What is your age'))\n",
    "gender= input('Specify Your gender M/F')\n",
    "salary_per_month=float(input('Enter your salary($):'))\n",
    "if age<18:\n",
    "    print(\"You Are Under age! \")\n",
    "    \n",
    "elif age>=60 :\n",
    "    if gender=='M' and salary_per_month <=100000:\n",
    "        print('Issue life time Man card with tax')\n",
    "        \n",
    "elif age>=60: \n",
    "    if gender=='F'and salary_per_month <=80000:\n",
    "        print('Issue life time Female card')\n",
    "        \n",
    "else:\n",
    "    if age>=18:\n",
    "         print('Issue short expiry card and apply tax')\n",
    "\n",
    "            \n",
    "print(\"Thnks for using us\")"
   ]
  },
  {
   "cell_type": "code",
   "execution_count": null,
   "id": "24809d18",
   "metadata": {},
   "outputs": [],
   "source": [
    "print(1 >=-1)\n",
    "print(2 >=3)\n",
    "print(5 >=(6-19))\n",
    "\n"
   ]
  },
  {
   "cell_type": "code",
   "execution_count": null,
   "id": "8b96b88c",
   "metadata": {},
   "outputs": [],
   "source": [
    "percentage= float(input('Enter Percentage:'))\n",
    "subject = input('E for Pre-ENG,M for Medical')\n",
    "if percentage >= 80 and subject=='E':\n",
    "    print(\"You can go to NED\")\n",
    "elif percentage >=70 and subject=='E':\n",
    "    print(\"You can go to  KU\")\n",
    "elif percentage >=80 and subject=='M':\n",
    "    print(\"You can go to dow\")\n",
    "elif percentage >=70 and subject=='M':\n",
    "    print(\"You can go to  KU\")\n",
    "else:\n",
    "    print(\"You can go for private university\")\n"
   ]
  },
  {
   "cell_type": "markdown",
   "id": "dfdc4296",
   "metadata": {},
   "source": [
    "# LIST(SLICING,DELETION,APPEND,INSERT,POP) "
   ]
  },
  {
   "cell_type": "code",
   "execution_count": null,
   "id": "1386ba66",
   "metadata": {},
   "outputs": [],
   "source": [
    "khi_temp=[45,15,25,35,45,6]\n",
    "khi_temp.append(2)\n",
    "khi_temp.append(8)\n",
    "khi_temp.insert(5,'faizan')\n",
    "print(khi_temp)\n",
    "#del khi_temp[0:2]\n",
    "khi_temp.remove(\"faizan\")\n",
    "print(khi_temp)\n",
    "#slicing\n",
    "#khi_temp[-7:]\n",
    "khi_temp[4:7]\n",
    "print (khi_temp.pop(0))\n",
    "print(khi_temp)\n"
   ]
  },
  {
   "cell_type": "code",
   "execution_count": null,
   "id": "0b5f06fe",
   "metadata": {},
   "outputs": [],
   "source": [
    "#Tupple (value change nh krskty)\n",
    "pk_t=(10,18,17)\n",
    "#print(len(pk_t))\n",
    "for i in pk_t:\n",
    "    print(i+1-5/6*5)\n",
    "#print(pk_t[0])\n",
    "#print(pk_t[1])\n",
    "#print(pk_t[2])\n"
   ]
  },
  {
   "cell_type": "code",
   "execution_count": null,
   "id": "911edac7",
   "metadata": {},
   "outputs": [],
   "source": [
    "number=[10,2,3,4,5,-3,7]\n",
    "min_value=number[0]\n",
    "for val in number:\n",
    "    if val<min_value:\n",
    "        min_value=val\n",
    "print (min_value)\n",
    "    "
   ]
  },
  {
   "cell_type": "markdown",
   "id": "8c9ddc0f",
   "metadata": {},
   "source": [
    "# List(Slicing)"
   ]
  },
  {
   "cell_type": "code",
   "execution_count": null,
   "id": "d100f124",
   "metadata": {},
   "outputs": [],
   "source": [
    "#List(slicing)\n",
    "list=['A','A','A','B','C','A','D','D','E']\n",
    "a=list[0:3]\n",
    "e=list[3:6]\n",
    "f=list[6:]\n",
    "print(a,e,f)\n",
    "lista='AAABCADDE'\n",
    "b=lista[:5]\n",
    "c=lista[5:]\n",
    "#d=lista[6:]\n",
    "print(b,'\\n',c)"
   ]
  },
  {
   "cell_type": "markdown",
   "id": "2d705605",
   "metadata": {},
   "source": [
    "# LIST TO Tupples/TUPPLE TO LIST"
   ]
  },
  {
   "cell_type": "code",
   "execution_count": null,
   "id": "8d9d75f2",
   "metadata": {},
   "outputs": [],
   "source": [
    "X=[1,2,3]\n",
    "Y=tuple(X)\n",
    "print(Y)\n",
    "T=list(Y)\n",
    "print(T)"
   ]
  },
  {
   "cell_type": "markdown",
   "id": "014b97c4",
   "metadata": {},
   "source": [
    "# LOOPS"
   ]
  },
  {
   "cell_type": "code",
   "execution_count": null,
   "id": "86c37fa4",
   "metadata": {},
   "outputs": [],
   "source": [
    "CITY_TO_CHECK=\"LAHOE\"\n",
    "CLEANEST_CITIES=['LAHORE','PESHAWAR','HYDERABAD','SUKKUR','JAMSHORO']\n",
    "for i in CLEANEST_CITIES:\n",
    "    if CITY_TO_CHECK==i:\n",
    "        print(\"Cleanest cities\")\n",
    "        break\n",
    "        print(\"Cleanest cities\")"
   ]
  },
  {
   "cell_type": "code",
   "execution_count": null,
   "id": "f89a9e3a",
   "metadata": {},
   "outputs": [],
   "source": [
    "cities=['karachi','Lahore','Faisalabad','Rawalpindi','Gujranwala','kohat','Peshawar','Multan','Saidu Sharif','Hyderabad City','Islamabad']\n",
    "\n",
    "for cities_in_k in cities:\n",
    "    if 'k' in cities_in_k:\n",
    "        print(cities_in_k)\n",
    "print(\"\")\n",
    "a=[]\n",
    "for cities_not_in_k in cities:\n",
    "    if 'k' not in cities_not_in_k:\n",
    "        print(cities_not_in_k) \n",
    " \n",
    "        "
   ]
  },
  {
   "cell_type": "code",
   "execution_count": null,
   "id": "5c970954",
   "metadata": {},
   "outputs": [],
   "source": [
    "name_list=['arif','kamran','sarman','asad','imran','sameer','nasir','rafeeq','rasheed','fareed']\n",
    "age_list=['15.6','16.7','15.8','14.9','16.0','15.1','15.2','14.3','15.4','16.5']\n",
    "marks_list=['70','80','90','60','65','67','75','85','77','70']\n",
    "loc=name_list.index('asad')\n",
    "print(loc)\n",
    "marks_sarman=marks_list[loc]\n",
    "print(marks_sarman)\n",
    "age_sarman=age_list[loc]\n",
    "print(age_sarman)"
   ]
  },
  {
   "cell_type": "code",
   "execution_count": null,
   "id": "d965b870",
   "metadata": {},
   "outputs": [],
   "source": [
    "data=\"\"\"\"karachi\n",
    "kohat\n",
    "\n",
    "Lahore\n",
    "Faisalabad\n",
    "Rawalpindi\n",
    "Gujranwl\n",
    "Peshwr\n",
    "Multn\n",
    "Sidu Shrif\n",
    "Hyderabad City\n",
    "Islmbd\"\"\"\n",
    "lista=list(data)\n",
    "print(lista)\n",
    "for i in data:\n",
    "    if 'a' in i:\n",
    "        print(i)\n",
    "for i in data:\n",
    "    if 'b' in i:\n",
    "        print(i)\n",
    "for i in data:\n",
    "    if 'c' in i:\n",
    "        print(i)\n",
    "for i in data:\n",
    "    if 'd' in i:\n",
    "        print(i)"
   ]
  },
  {
   "cell_type": "code",
   "execution_count": null,
   "id": "f7f778fd",
   "metadata": {},
   "outputs": [],
   "source": [
    "size =  [523, 645, 708, 1034, 2290, 2545]#x\n",
    "prices = [115, 150, 216, 280, 255, 440]#y\n",
    "multiplyer=[]\n",
    "m=0\n",
    "loc=0\n",
    "#y=mx+b\n",
    "#m=y-b/x\n",
    "for loc in range(len(prices)):\n",
    "    m=prices[loc]/size[loc]\n",
    "    multiplyer.append(m)\n",
    "print(multiplyer)\n",
    "#Mean\n",
    "c=sum(multiplyer)/len(multiplyer)\n",
    "print(c)\n",
    "for loc in range(len(size)):\n",
    "    t=c*size[loc]\n",
    "    print(t)"
   ]
  },
  {
   "cell_type": "code",
   "execution_count": null,
   "id": "c434265d",
   "metadata": {},
   "outputs": [],
   "source": [
    "num=int(input(\"Enter any number\"))\n",
    "sum=0\n",
    "for a in range(0,num):\n",
    "    sum=num+sum\n",
    "    num-=1\n",
    "print(sum)\n",
    "\n"
   ]
  },
  {
   "cell_type": "markdown",
   "id": "3943abfe",
   "metadata": {},
   "source": [
    "#Dictionary"
   ]
  },
  {
   "cell_type": "code",
   "execution_count": 3,
   "id": "4f42e8b8",
   "metadata": {},
   "outputs": [
    {
     "name": "stdout",
     "output_type": "stream",
     "text": [
      "Enter Test you want num of:7\n",
      "invalid\n"
     ]
    }
   ],
   "source": [
    "student_1197={\n",
    "    \"Name\":\"M.Taha\",\n",
    "    \"Class\":\"14th\",\n",
    "    \"Marks\":[40,45,50,55],\n",
    "    }\n",
    "\n",
    "a=student_1197[\"Marks\"]\n",
    "#print(a[0])\n",
    "quiz1=a[0]\n",
    "quiz2=a[1]\n",
    "mids=a[2]\n",
    "finals=a[3]\n",
    "test=input(\"Enter Test you want num of:\")\n",
    "if test== \"quiz1\":\n",
    "    print(quiz1)\n",
    "elif test==\"quiz2\":\n",
    "    print(quiz2)\n",
    "\n",
    "elif test==\"mids\":\n",
    "    print(mids)\n",
    "    \n",
    "elif test==\"finals\":\n",
    "    print(finals)\n",
    "else:\n",
    "    print(\"invalid\")"
   ]
  },
  {
   "cell_type": "code",
   "execution_count": 8,
   "id": "e9849986",
   "metadata": {},
   "outputs": [
    {
     "name": "stdout",
     "output_type": "stream",
     "text": [
      "Enter Marks you want:quiz1\n",
      "40\n"
     ]
    }
   ],
   "source": [
    "student_1197={\n",
    "    \"Name\":\"M.Taha\",\n",
    "    \"Class\":\"14th\",\n",
    "    'Marks':{\"Quiz1\":40,\n",
    "             \"Quiz2\":45,\n",
    "              \"mid\":50,\n",
    "              \"final\":55 }\n",
    "    }\n",
    "result=student_1197[\"Marks\"]\n",
    "exam=input(\"Enter Marks you want:\")\n",
    "exam = exam.title()\n",
    "print(result[exam])\n"
   ]
  },
  {
   "cell_type": "code",
   "execution_count": 22,
   "id": "e878ec2a",
   "metadata": {},
   "outputs": [
    {
     "name": "stdout",
     "output_type": "stream",
     "text": [
      "{'name': 'AI', 'marks': {'quiz1': 40, 'Quiz2': 45, 'mid': 50, 'final': 55}}\n"
     ]
    }
   ],
   "source": [
    "student=[]\n",
    "class1={\n",
    "    \"name\":\"AI\",\n",
    "    \"marks\":\n",
    "    {\n",
    "        \"quiz1\":40,\n",
    "        \"Quiz2\":45,\n",
    "        \"mid\":50,\n",
    "        \"final\":55 \n",
    "        \n",
    "    }\n",
    "}\n",
    "class2={\n",
    "      \"name\":\"Cnc\",\n",
    "    \"marks\":\n",
    "    {\n",
    "        \"quiz1\":40,\n",
    "        \"Quiz2\":45,\n",
    "        \"mid\":50,\n",
    "        \"final\":55 \n",
    "        \n",
    "    }\n",
    "}\n",
    "student_1={\n",
    "    \"Name\":\"Taha\",\n",
    "    \"Class_AI\":class1,\n",
    "    \"Class_Cnc\":class2\n",
    "}\n",
    "student.append(student_1)\n",
    "print(student_1[\"Class_AI\"])"
   ]
  },
  {
   "cell_type": "code",
   "execution_count": 32,
   "id": "8b1eb837",
   "metadata": {},
   "outputs": [
    {
     "name": "stdout",
     "output_type": "stream",
     "text": [
      "0.5499999999999999\n"
     ]
    }
   ],
   "source": [
    "customer_29876 = {\n",
    " \"first name\": \"David\",\n",
    " \"last name\": \"Elliott\",\n",
    " \"address\": \"4803 Wellesley St.\",\n",
    "\"discounts\": [\"standard\", \"volume\", \"loyalty\"],\n",
    "}\n",
    "discount_amount=0\n",
    "if \"standard\" in customer_29876[\"discounts\"]:\n",
    "    discount_amount += .30\n",
    "if \"loyalty\" in customer_29876[\"discounts\"]:\n",
    "    discount_amount += .15\n",
    "if \"volume\" in customer_29876[\"discounts\"]:\n",
    "    discount_amount += .10\n",
    "print(discount_amount)"
   ]
  },
  {
   "cell_type": "code",
   "execution_count": null,
   "id": "1467630c",
   "metadata": {},
   "outputs": [],
   "source": []
  }
 ],
 "metadata": {
  "kernelspec": {
   "display_name": "Python 3 (ipykernel)",
   "language": "python",
   "name": "python3"
  },
  "language_info": {
   "codemirror_mode": {
    "name": "ipython",
    "version": 3
   },
   "file_extension": ".py",
   "mimetype": "text/x-python",
   "name": "python",
   "nbconvert_exporter": "python",
   "pygments_lexer": "ipython3",
   "version": "3.9.12"
  }
 },
 "nbformat": 4,
 "nbformat_minor": 5
}
